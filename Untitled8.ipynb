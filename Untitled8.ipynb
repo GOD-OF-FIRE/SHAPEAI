{
 "cells": [
  {
   "cell_type": "code",
   "execution_count": 1,
   "metadata": {},
   "outputs": [
    {
     "name": "stdout",
     "output_type": "stream",
     "text": [
      "keys of iris_dataset: \n",
      "dict_keys(['data', 'target', 'target_names', 'DESCR', 'feature_names', 'filename'])\n",
      ".. _iris_dataset:\n",
      "\n",
      "Iris plants dataset\n",
      "--------------------\n",
      "\n",
      "**Data Set Characteristics:**\n",
      "\n",
      "    :Number of Instances: 150 (50 in each of three classes)\n",
      "    :Number of Attributes: 4 numeric, pre\n",
      "...\n",
      "Target Names: ['setosa' 'versicolor' 'virginica']\n",
      "Feature Names: ['sepal length (cm)', 'sepal width (cm)', 'petal length (cm)', 'petal width (cm)']\n",
      "Types Of Data: <class 'numpy.ndarray'>\n",
      "Shape Of Data: (150, 4)\n",
      "First Five Rows of Data: \n",
      " [[5.1 3.5 1.4 0.2]\n",
      " [4.9 3.  1.4 0.2]\n",
      " [4.7 3.2 1.3 0.2]\n",
      " [4.6 3.1 1.5 0.2]\n",
      " [5.  3.6 1.4 0.2]]\n",
      "Types Of Target: <class 'numpy.ndarray'>\n",
      "Shape Of Target: (150,)\n",
      "Target: \n",
      "[0 0 0 0 0 0 0 0 0 0 0 0 0 0 0 0 0 0 0 0 0 0 0 0 0 0 0 0 0 0 0 0 0 0 0 0 0\n",
      " 0 0 0 0 0 0 0 0 0 0 0 0 0 1 1 1 1 1 1 1 1 1 1 1 1 1 1 1 1 1 1 1 1 1 1 1 1\n",
      " 1 1 1 1 1 1 1 1 1 1 1 1 1 1 1 1 1 1 1 1 1 1 1 1 1 1 2 2 2 2 2 2 2 2 2 2 2\n",
      " 2 2 2 2 2 2 2 2 2 2 2 2 2 2 2 2 2 2 2 2 2 2 2 2 2 2 2 2 2 2 2 2 2 2 2 2 2\n",
      " 2 2]\n"
     ]
    }
   ],
   "source": [
    "import pandas as pd\n",
    "import numpy as np\n",
    "from sklearn.datasets import load_iris\n",
    "iris_dataset=load_iris()\n",
    "print(\"keys of iris_dataset: \\n{}\".format(iris_dataset.keys()))\n",
    "print(iris_dataset['DESCR'][:193]+ \"\\n...\")\n",
    "print(\"Target Names: {}\".format(iris_dataset['target_names']))\n",
    "print(\"Feature Names: {}\".format(iris_dataset['feature_names']))\n",
    "print(\"Types Of Data: {}\".format(type(iris_dataset['data'])))\n",
    "print(\"Shape Of Data: {}\".format(iris_dataset['data'].shape))\n",
    "print(\"First Five Rows of Data: \\n {}\".format(iris_dataset['data'][:5]))\n",
    "print(\"Types Of Target: {}\".format(type(iris_dataset['target'])))\n",
    "print(\"Shape Of Target: {}\".format(iris_dataset['target'].shape))\n",
    "print(\"Target: \\n{}\".format(iris_dataset['target']))"
   ]
  }
 ],
 "metadata": {
  "kernelspec": {
   "display_name": "Python 3",
   "language": "python",
   "name": "python3"
  },
  "language_info": {
   "codemirror_mode": {
    "name": "ipython",
    "version": 3
   },
   "file_extension": ".py",
   "mimetype": "text/x-python",
   "name": "python",
   "nbconvert_exporter": "python",
   "pygments_lexer": "ipython3",
   "version": "3.7.4"
  }
 },
 "nbformat": 4,
 "nbformat_minor": 2
}
